{
  "nbformat": 4,
  "nbformat_minor": 0,
  "metadata": {
    "colab": {
      "name": "Untitled31.ipynb",
      "version": "0.3.2",
      "provenance": [],
      "private_outputs": true,
      "include_colab_link": true
    },
    "kernelspec": {
      "name": "python3",
      "display_name": "Python 3"
    }
  },
  "cells": [
    {
      "cell_type": "markdown",
      "metadata": {
        "id": "view-in-github",
        "colab_type": "text"
      },
      "source": [
        "<a href=\"https://colab.research.google.com/github/bxck75/ATSCAN/blob/master/Untitled31.ipynb\" target=\"_parent\"><img src=\"https://colab.research.google.com/assets/colab-badge.svg\" alt=\"Open In Colab\"/></a>"
      ]
    },
    {
      "cell_type": "code",
      "metadata": {
        "id": "doCvX9HQPQsl",
        "colab_type": "code",
        "colab": {}
      },
      "source": [
        "class GitGo():\n",
        "\n",
        "  # pulls git rep and shows files\n",
        "  # returns root path for the repository\n",
        "  # Function needs repository <user>/<repository name> combination\n",
        "  # Switch chdir and define the rootpath for the repository\n",
        "  # Use : git_get_go('<rep owner>/<rep name>', <chdir switch>, <root path>)\n",
        "  \n",
        "  def __init__(self,rep,chdir=True,path='/content/'):\n",
        "\n",
        "    import os\n",
        "    rep=rep.split('/')\n",
        "    # change folder check\n",
        "    if chdir ==True:\n",
        "      #Switch to path\n",
        "      os.chdir(path)\n",
        "    # pull get the git rep\n",
        "    !git clone https://github.com/{rep[0]}/{rep[1]}.git\n",
        "    # Set the return value for rep rootpath\n",
        "    PATH=path+rep[1]\n",
        "    # show imported files\n",
        "    !ls {PATH}\n",
        "    # return the path of the pulled reposity\n",
        "  return PATH\n",
        "  \n",
        "  \n",
        "  \n",
        "  \n",
        "GitGo('NVlabs/SPADE')"
      ],
      "execution_count": 0,
      "outputs": []
    }
  ]
}